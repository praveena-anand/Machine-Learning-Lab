{
  "nbformat": 4,
  "nbformat_minor": 0,
  "metadata": {
    "colab": {
      "provenance": []
    },
    "kernelspec": {
      "name": "python3",
      "display_name": "Python 3"
    },
    "language_info": {
      "name": "python"
    }
  },
  "cells": [
    {
      "cell_type": "markdown",
      "source": [
        "PRAVEENA ANAND [CH.SC.U4CSE23044]"
      ],
      "metadata": {
        "id": "c1ShWp49kN-X"
      }
    },
    {
      "cell_type": "markdown",
      "source": [
        "**LOGISTIC REGRESSION:**"
      ],
      "metadata": {
        "id": "02ZQ2Z_KkP-2"
      }
    },
    {
      "cell_type": "markdown",
      "source": [
        "**Exam Ranks Dataset:**"
      ],
      "metadata": {
        "id": "kA4nQG76mn0x"
      }
    },
    {
      "cell_type": "markdown",
      "source": [
        "Importing Required Libraries:"
      ],
      "metadata": {
        "id": "xDeUcF_2kRz9"
      }
    },
    {
      "cell_type": "code",
      "execution_count": 1,
      "metadata": {
        "id": "ANc2UjigkLRa"
      },
      "outputs": [],
      "source": [
        "import pandas as pd\n",
        "import statsmodels.api as sm\n",
        "from sklearn.model_selection import train_test_split\n",
        "from sklearn.linear_model import LogisticRegression\n",
        "from sklearn import metrics\n",
        "import seaborn as sns\n",
        "import urllib"
      ]
    },
    {
      "cell_type": "markdown",
      "source": [
        "Download and Load the Dataset:"
      ],
      "metadata": {
        "id": "2-MHl1sakY51"
      }
    },
    {
      "cell_type": "code",
      "source": [
        "url = \"https://stats.idre.ucla.edu/stat/stata/dae/binary.dta\"\n",
        "data = pd.read_stata(url)"
      ],
      "metadata": {
        "id": "DIFk4TXXkbdV"
      },
      "execution_count": 2,
      "outputs": []
    },
    {
      "cell_type": "markdown",
      "source": [
        "Show the First Few Rows of the Data & the Columns Present:"
      ],
      "metadata": {
        "id": "jZU16OZ3kfK-"
      }
    },
    {
      "cell_type": "code",
      "source": [
        "print(data.head())\n",
        "print(data.columns)"
      ],
      "metadata": {
        "colab": {
          "base_uri": "https://localhost:8080/"
        },
        "id": "0ev0dQ-BkljT",
        "outputId": "0cd994ea-1a2b-40e6-ef05-ffdc25b5684f"
      },
      "execution_count": 7,
      "outputs": [
        {
          "output_type": "stream",
          "name": "stdout",
          "text": [
            "   admit    gre   gpa  rank\n",
            "0    0.0  380.0  3.61   3.0\n",
            "1    1.0  660.0  3.67   3.0\n",
            "2    1.0  800.0  4.00   1.0\n",
            "3    1.0  640.0  3.19   4.0\n",
            "4    0.0  520.0  2.93   4.0\n",
            "Index(['admit', 'gre', 'gpa', 'rank'], dtype='object')\n"
          ]
        }
      ]
    },
    {
      "cell_type": "markdown",
      "source": [
        "Checking for Any Null Values in the Dataset:"
      ],
      "metadata": {
        "id": "ta8VtvNPknRk"
      }
    },
    {
      "cell_type": "code",
      "source": [
        "data.isnull().sum()"
      ],
      "metadata": {
        "colab": {
          "base_uri": "https://localhost:8080/",
          "height": 210
        },
        "id": "DZ7zOe4UkpL8",
        "outputId": "aed377e0-c16f-4fba-b06e-2931f9bf3319"
      },
      "execution_count": 8,
      "outputs": [
        {
          "output_type": "execute_result",
          "data": {
            "text/plain": [
              "admit    0\n",
              "gre      0\n",
              "gpa      0\n",
              "rank     0\n",
              "dtype: int64"
            ],
            "text/html": [
              "<div>\n",
              "<style scoped>\n",
              "    .dataframe tbody tr th:only-of-type {\n",
              "        vertical-align: middle;\n",
              "    }\n",
              "\n",
              "    .dataframe tbody tr th {\n",
              "        vertical-align: top;\n",
              "    }\n",
              "\n",
              "    .dataframe thead th {\n",
              "        text-align: right;\n",
              "    }\n",
              "</style>\n",
              "<table border=\"1\" class=\"dataframe\">\n",
              "  <thead>\n",
              "    <tr style=\"text-align: right;\">\n",
              "      <th></th>\n",
              "      <th>0</th>\n",
              "    </tr>\n",
              "  </thead>\n",
              "  <tbody>\n",
              "    <tr>\n",
              "      <th>admit</th>\n",
              "      <td>0</td>\n",
              "    </tr>\n",
              "    <tr>\n",
              "      <th>gre</th>\n",
              "      <td>0</td>\n",
              "    </tr>\n",
              "    <tr>\n",
              "      <th>gpa</th>\n",
              "      <td>0</td>\n",
              "    </tr>\n",
              "    <tr>\n",
              "      <th>rank</th>\n",
              "      <td>0</td>\n",
              "    </tr>\n",
              "  </tbody>\n",
              "</table>\n",
              "</div><br><label><b>dtype:</b> int64</label>"
            ]
          },
          "metadata": {},
          "execution_count": 8
        }
      ]
    },
    {
      "cell_type": "markdown",
      "source": [
        "Assigning Dependent and Independent Variables:"
      ],
      "metadata": {
        "id": "Js0ZjXMvkqb7"
      }
    },
    {
      "cell_type": "markdown",
      "source": [
        "Independent Variables: gre (GRE score), gpa (GPA), prestige (institution prestige)"
      ],
      "metadata": {
        "id": "2WLn6ykwkuh8"
      }
    },
    {
      "cell_type": "markdown",
      "source": [
        "Dependent Variable: admit (whether admitted or not)"
      ],
      "metadata": {
        "id": "RE34PKKzk3Us"
      }
    },
    {
      "cell_type": "code",
      "source": [
        "feature_cols = ['gre', 'gpa', 'rank']\n",
        "x = data[feature_cols]\n",
        "y = data['admit']"
      ],
      "metadata": {
        "id": "vpkzLuQlk6lE"
      },
      "execution_count": 9,
      "outputs": []
    },
    {
      "cell_type": "markdown",
      "source": [
        "Adding Constant to the Independent Variables for the Intercept in the Model"
      ],
      "metadata": {
        "id": "biYRF3gDk8eD"
      }
    },
    {
      "cell_type": "code",
      "source": [
        "x = sm.add_constant(x)"
      ],
      "metadata": {
        "id": "U7Z415lmlDit"
      },
      "execution_count": 10,
      "outputs": []
    },
    {
      "cell_type": "markdown",
      "source": [
        "Splitting the Dataset into Training and Testing Dataset:"
      ],
      "metadata": {
        "id": "5oAApW5imDta"
      }
    },
    {
      "cell_type": "code",
      "source": [
        "x_train, x_test, y_train, y_test = train_test_split(x,y,test_size=0.2, random_state=5)\n",
        "display(x_train.shape, y_train.shape, x_test.shape, y_test.shape)"
      ],
      "metadata": {
        "colab": {
          "base_uri": "https://localhost:8080/",
          "height": 88
        },
        "id": "J34PXFHhmEPK",
        "outputId": "19949a1d-c4fe-46a6-d25f-bf76329ab09f"
      },
      "execution_count": 13,
      "outputs": [
        {
          "output_type": "display_data",
          "data": {
            "text/plain": [
              "(320, 4)"
            ]
          },
          "metadata": {}
        },
        {
          "output_type": "display_data",
          "data": {
            "text/plain": [
              "(320,)"
            ]
          },
          "metadata": {}
        },
        {
          "output_type": "display_data",
          "data": {
            "text/plain": [
              "(80, 4)"
            ]
          },
          "metadata": {}
        },
        {
          "output_type": "display_data",
          "data": {
            "text/plain": [
              "(80,)"
            ]
          },
          "metadata": {}
        }
      ]
    },
    {
      "cell_type": "markdown",
      "source": [
        "Fitting the Logistic Regression Model"
      ],
      "metadata": {
        "id": "McOJu5vglFLh"
      }
    },
    {
      "cell_type": "code",
      "source": [
        "model= LogisticRegression (solver='lbfgs', max_iter=1000)"
      ],
      "metadata": {
        "id": "C_G_zn79lIr6"
      },
      "execution_count": 16,
      "outputs": []
    },
    {
      "cell_type": "code",
      "source": [
        "model.fit(x_train, y_train)\n",
        "y_pred=model.predict(x_test)"
      ],
      "metadata": {
        "id": "7mL--Vi9lL4h"
      },
      "execution_count": 17,
      "outputs": []
    },
    {
      "cell_type": "markdown",
      "source": [
        "Evaluation Metrics:"
      ],
      "metadata": {
        "id": "tI30atLwlNHb"
      }
    },
    {
      "cell_type": "code",
      "source": [
        "conf_mat = metrics.confusion_matrix(y_test, y_pred)\n",
        "print('Confusion Matrix:\\n', conf_mat)\n",
        "accuracy_score = metrics.accuracy_score(y_test, y_pred)\n",
        "print('Accuracy Score:', accuracy_score)\n",
        "print('Accuracy in Percentage:', int(accuracy_score * 100), '%')"
      ],
      "metadata": {
        "colab": {
          "base_uri": "https://localhost:8080/"
        },
        "id": "9xIm2pJxlPmj",
        "outputId": "64e2c659-1500-43d1-c9e9-58dd69407679"
      },
      "execution_count": 18,
      "outputs": [
        {
          "output_type": "stream",
          "name": "stdout",
          "text": [
            "Confusion Matrix:\n",
            " [[50  4]\n",
            " [23  3]]\n",
            "Accuracy Score: 0.6625\n",
            "Accuracy in Percentage: 66 %\n"
          ]
        }
      ]
    },
    {
      "cell_type": "markdown",
      "source": [
        "Displaying the Confusion Matrix in a Tabular Form:"
      ],
      "metadata": {
        "id": "r3oC2WdWlSqb"
      }
    },
    {
      "cell_type": "code",
      "source": [
        "conf_mat_df = pd.crosstab(y_test, y_pred, rownames=['Actual'], colnames=['Predicted'])\n",
        "sns.heatmap(conf_mat_df, annot=True)"
      ],
      "metadata": {
        "colab": {
          "base_uri": "https://localhost:8080/",
          "height": 473
        },
        "id": "JJXxQM-slTJi",
        "outputId": "4082bfbd-66a5-48a6-8b88-52e27cf4a5cb"
      },
      "execution_count": 19,
      "outputs": [
        {
          "output_type": "execute_result",
          "data": {
            "text/plain": [
              "<Axes: xlabel='Predicted', ylabel='Actual'>"
            ]
          },
          "metadata": {},
          "execution_count": 19
        },
        {
          "output_type": "display_data",
          "data": {
            "text/plain": [
              "<Figure size 640x480 with 2 Axes>"
            ],
            "image/png": "[encoded data removed]"
          },
          "metadata": {}
        }
      ]
    },
    {
      "cell_type": "markdown",
      "source": [
        "Logistic Regression Summary:"
      ],
      "metadata": {
        "id": "1SAGF92llWwU"
      }
    },
    {
      "cell_type": "code",
      "source": [
        "logit_model = sm.Logit(y, x)\n",
        "result = logit_model.fit()\n",
        "print(result.summary())"
      ],
      "metadata": {
        "colab": {
          "base_uri": "https://localhost:8080/"
        },
        "id": "Vxj--GMflYcR",
        "outputId": "f97aebc5-413a-4467-c0b6-d0e4eec30925"
      },
      "execution_count": 20,
      "outputs": [
        {
          "output_type": "stream",
          "name": "stdout",
          "text": [
            "Optimization terminated successfully.\n",
            "         Current function value: 0.574302\n",
            "         Iterations 6\n",
            "                           Logit Regression Results                           \n",
            "==============================================================================\n",
            "Dep. Variable:                  admit   No. Observations:                  400\n",
            "Model:                          Logit   Df Residuals:                      396\n",
            "Method:                           MLE   Df Model:                            3\n",
            "Date:                Thu, 24 Jul 2025   Pseudo R-squ.:                 0.08107\n",
            "Time:                        04:04:20   Log-Likelihood:                -229.72\n",
            "converged:                       True   LL-Null:                       -249.99\n",
            "Covariance Type:            nonrobust   LLR p-value:                 8.207e-09\n",
            "==============================================================================\n",
            "                 coef    std err          z      P>|z|      [0.025      0.975]\n",
            "------------------------------------------------------------------------------\n",
            "const         -3.4495      1.133     -3.045      0.002      -5.670      -1.229\n",
            "gre            0.0023      0.001      2.101      0.036       0.000       0.004\n",
            "gpa            0.7770      0.327      2.373      0.018       0.135       1.419\n",
            "rank          -0.5600      0.127     -4.405      0.000      -0.809      -0.311\n",
            "==============================================================================\n"
          ]
        }
      ]
    }
  ]
}