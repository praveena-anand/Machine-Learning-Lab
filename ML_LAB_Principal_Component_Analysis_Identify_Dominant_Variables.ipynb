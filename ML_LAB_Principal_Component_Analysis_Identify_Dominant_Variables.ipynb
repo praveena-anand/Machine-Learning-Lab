{
  "nbformat": 4,
  "nbformat_minor": 0,
  "metadata": {
    "colab": {
      "provenance": []
    },
    "kernelspec": {
      "name": "python3",
      "display_name": "Python 3"
    },
    "language_info": {
      "name": "python"
    }
  },
  "cells": [
    {
      "cell_type": "markdown",
      "source": [
        "PRAVEENA ANAND [CH.SC.U4CSE23044]"
      ],
      "metadata": {
        "id": "x9BdQVseWVJ0"
      }
    },
    {
      "cell_type": "markdown",
      "source": [
        "**PRINCIPAL COMPONENT ANALYSIS:**"
      ],
      "metadata": {
        "id": "beL3T3euWZ0A"
      }
    },
    {
      "cell_type": "markdown",
      "source": [
        "**Identify Dominant Variables:**"
      ],
      "metadata": {
        "id": "koIPstm1WSR-"
      }
    },
    {
      "cell_type": "markdown",
      "source": [
        "Import Required Libraries:"
      ],
      "metadata": {
        "id": "HvULQBklWeGO"
      }
    },
    {
      "cell_type": "code",
      "source": [
        "import pandas as pd\n",
        "from sklearn.decomposition import PCA\n",
        "from sklearn.preprocessing import StandardScaler"
      ],
      "metadata": {
        "id": "PuRAWZbwW0AR"
      },
      "execution_count": 2,
      "outputs": []
    },
    {
      "cell_type": "markdown",
      "source": [
        "Create Dataset:"
      ],
      "metadata": {
        "id": "t0HV00xpW0-O"
      }
    },
    {
      "cell_type": "code",
      "source": [
        "data = pd.DataFrame({\n",
        "    \"Climate\":      [0.190, 0.017, 0.207],\n",
        "    \"Housing\":      [0.544, 0.020, 0.204],\n",
        "    \"Health\":       [0.782, -0.605, 0.144],\n",
        "    \"Crime\":        [0.365, 0.294, 0.585],\n",
        "    \"Transportation\":[0.585, 0.085, 0.234],\n",
        "    \"Education\":    [0.394, -0.273, 0.027],\n",
        "    \"Arts\":         [0.985, 0.126, -0.111],\n",
        "    \"Recreation\":   [0.520, 0.402, 0.519],\n",
        "    \"Economy\":      [0.142, 0.150, 0.239]\n",
        "}, index=[\"PC1\", \"PC2\", \"PC3\"]).T"
      ],
      "metadata": {
        "id": "ufBlctQSW6Fj"
      },
      "execution_count": 3,
      "outputs": []
    },
    {
      "cell_type": "code",
      "source": [
        "print(\"PCA Component Matrix (already given):\")\n",
        "print(data)"
      ],
      "metadata": {
        "colab": {
          "base_uri": "https://localhost:8080/"
        },
        "id": "JBET62vkXF0R",
        "outputId": "61173cc5-ab5c-4f9a-8e31-76e8b2abd4fa"
      },
      "execution_count": 4,
      "outputs": [
        {
          "output_type": "stream",
          "name": "stdout",
          "text": [
            "PCA Component Matrix (already given):\n",
            "                  PC1    PC2    PC3\n",
            "Climate         0.190  0.017  0.207\n",
            "Housing         0.544  0.020  0.204\n",
            "Health          0.782 -0.605  0.144\n",
            "Crime           0.365  0.294  0.585\n",
            "Transportation  0.585  0.085  0.234\n",
            "Education       0.394 -0.273  0.027\n",
            "Arts            0.985  0.126 -0.111\n",
            "Recreation      0.520  0.402  0.519\n",
            "Economy         0.142  0.150  0.239\n"
          ]
        }
      ]
    },
    {
      "cell_type": "markdown",
      "source": [
        "Identify Dominant Variable for Each Principal Component:"
      ],
      "metadata": {
        "id": "9qEM6finXH-E"
      }
    },
    {
      "cell_type": "code",
      "execution_count": 5,
      "metadata": {
        "colab": {
          "base_uri": "https://localhost:8080/"
        },
        "id": "7tJuQMRNWRdu",
        "outputId": "03da3f55-b942-433e-9752-c1d0cf551dbd"
      },
      "outputs": [
        {
          "output_type": "stream",
          "name": "stdout",
          "text": [
            "\n",
            "Dominant variable for each Principal Component:\n",
            "PC1      Arts\n",
            "PC2    Health\n",
            "PC3     Crime\n",
            "dtype: object\n"
          ]
        }
      ],
      "source": [
        "dominant_vars = data.apply(lambda col: col.abs().idxmax())\n",
        "print(\"\\nDominant variable for each Principal Component:\")\n",
        "print(dominant_vars)\n"
      ]
    }
  ]
}