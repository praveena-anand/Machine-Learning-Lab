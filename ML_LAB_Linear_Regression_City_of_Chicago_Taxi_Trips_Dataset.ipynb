{
  "nbformat": 4,
  "nbformat_minor": 0,
  "metadata": {
    "colab": {
      "provenance": []
    },
    "kernelspec": {
      "name": "python3",
      "display_name": "Python 3"
    },
    "language_info": {
      "name": "python"
    }
  },
  "cells": [
    {
      "cell_type": "markdown",
      "source": [
        "PRAVEENA ANAND [CH.SC.U4CSE23044]"
      ],
      "metadata": {
        "id": "g2FHdgHwROEN"
      }
    },
    {
      "cell_type": "markdown",
      "source": [
        "**LINEAR REGRESSION:**"
      ],
      "metadata": {
        "id": "mYn5cwoKRRl7"
      }
    },
    {
      "cell_type": "markdown",
      "source": [
        "**City of Chicago Taxi Trips Dataset:**"
      ],
      "metadata": {
        "id": "Hbom36jGRUmp"
      }
    },
    {
      "cell_type": "markdown",
      "source": [
        "Importing Required Libraries:"
      ],
      "metadata": {
        "id": "1R7w2rj7RZit"
      }
    },
    {
      "cell_type": "code",
      "execution_count": 2,
      "metadata": {
        "id": "xBwCSNhNNFJJ"
      },
      "outputs": [],
      "source": [
        "import pandas as pd\n",
        "from sklearn.linear_model import LinearRegression\n",
        "from sklearn.model_selection import train_test_split\n",
        "import matplotlib.pyplot as plt"
      ]
    },
    {
      "cell_type": "markdown",
      "source": [
        "Importing (Reading) Datasets:"
      ],
      "metadata": {
        "id": "99URZTiSRggm"
      }
    },
    {
      "cell_type": "code",
      "source": [
        "data = pd.read_csv('/content/Taxi_Trips__2013-2023__20250710.csv')"
      ],
      "metadata": {
        "id": "Wxp98p2CNfQH"
      },
      "execution_count": 3,
      "outputs": []
    },
    {
      "cell_type": "markdown",
      "source": [
        "Exploring Dataset:"
      ],
      "metadata": {
        "id": "M2Gao4ytRieH"
      }
    },
    {
      "cell_type": "code",
      "source": [
        "data.head()"
      ],
      "metadata": {
        "colab": {
          "base_uri": "https://localhost:8080/",
          "height": 481
        },
        "id": "jNAHOzBUOufj",
        "outputId": "e5d3cc25-0e4b-4d38-821c-6f632005d188"
      },
      "execution_count": 4,
      "outputs": [
        {
          "output_type": "execute_result",
          "data": {
            "text/plain": [
              "                                    Trip ID  \\\n",
              "0  0fca59218b11688279d795c03c4d16f851f13fa0   \n",
              "1  1e539d6e7501164c6b76b761c3152c235e206d59   \n",
              "2  2b3c5200439d51f626b60380809bbbcca766a85b   \n",
              "3  45b2ea39cfff64d61a46ef016e16f8ee74e9ed23   \n",
              "4  464df6aaaf97ca8745985c2a5b2e481067a2bfb6   \n",
              "\n",
              "                                             Taxi ID    Trip Start Timestamp  \\\n",
              "0  e2c349c7cbb608d552aa0b5814031943f13641ef9e50d8...  01/01/2023 12:00:00 AM   \n",
              "1  4ab7a7510c1ebcc9b2e3eaa7bdd6508dbea34da7986aca...  01/01/2023 12:00:00 AM   \n",
              "2  8c76eb82f069c0731a0049cb78898f02cc5ac6990244c9...  01/01/2023 12:00:00 AM   \n",
              "3  a688de71e9eb70603ba839dc7faf949968ae3e971e0575...  01/01/2023 12:00:00 AM   \n",
              "4  8b1a88e5a09cfd55ca72d267f00f56fa50a42aa322bdfe...  01/01/2023 12:00:00 AM   \n",
              "\n",
              "       Trip End Timestamp  Trip Seconds  Trip Miles  Pickup Census Tract  \\\n",
              "0  01/01/2023 12:15:00 AM          1037        4.82                  NaN   \n",
              "1  01/01/2023 12:15:00 AM          1341       16.63                  NaN   \n",
              "2  01/01/2023 12:15:00 AM           844        3.84                  NaN   \n",
              "3  01/01/2023 12:00:00 AM           361        0.63                  NaN   \n",
              "4  01/01/2023 12:15:00 AM           704        0.99                  NaN   \n",
              "\n",
              "   Dropoff Census Tract  Pickup Community Area  Dropoff Community Area  ...  \\\n",
              "0                   NaN                    6.0                    32.0  ...   \n",
              "1                   NaN                   76.0                     8.0  ...   \n",
              "2                   NaN                   24.0                     8.0  ...   \n",
              "3                   NaN                   32.0                    32.0  ...   \n",
              "4                   NaN                   14.0                    14.0  ...   \n",
              "\n",
              "   Extras  Trip Total  Payment Type                       Company  \\\n",
              "0     0.0       19.50   Credit Card  Taxicab Insurance Agency Llc   \n",
              "1     6.0       53.00   Credit Card                      Sun Taxi   \n",
              "2     0.0       20.17        Mobile                      Sun Taxi   \n",
              "3     1.0        6.50          Cash                   5 Star Taxi   \n",
              "4     0.0        7.75          Cash                     Flash Cab   \n",
              "\n",
              "   Pickup Centroid Latitude Pickup Centroid Longitude  \\\n",
              "0                 41.944227                -87.655998   \n",
              "1                 41.980264                -87.913625   \n",
              "2                 41.901207                -87.676356   \n",
              "3                 41.878866                -87.625192   \n",
              "4                 41.968069                -87.721559   \n",
              "\n",
              "               Pickup Centroid Location  Dropoff Centroid Latitude  \\\n",
              "0  POINT (-87.6559981815 41.9442266014)                  41.878866   \n",
              "1   POINT (-87.913624596 41.9802643146)                  41.899602   \n",
              "2  POINT (-87.6763559892 41.9012069941)                  41.899602   \n",
              "3  POINT (-87.6251921424 41.8788655841)                  41.878866   \n",
              "4      POINT (-87.7215590627 41.968069)                  41.968069   \n",
              "\n",
              "   Dropoff Centroid Longitude            Dropoff Centroid  Location  \n",
              "0                  -87.625192  POINT (-87.6251921424 41.8788655841)  \n",
              "1                  -87.633308   POINT (-87.6333080367 41.899602111)  \n",
              "2                  -87.633308   POINT (-87.6333080367 41.899602111)  \n",
              "3                  -87.625192  POINT (-87.6251921424 41.8788655841)  \n",
              "4                  -87.721559      POINT (-87.7215590627 41.968069)  \n",
              "\n",
              "[5 rows x 23 columns]"
            ],
            "text/html": [
              "\n",
              "  <div id=\"df-1f9472f0-e29e-4df0-b47c-cc361beb21a1\" class=\"colab-df-container\">\n",
              "    <div>\n",
              "<style scoped>\n",
              "    .dataframe tbody tr th:only-of-type {\n",
              "        vertical-align: middle;\n",
              "    }\n",
              "\n",
              "    .dataframe tbody tr th {\n",
              "        vertical-align: top;\n",
              "    }\n",
              "\n",
              "    .dataframe thead th {\n",
              "        text-align: right;\n",
              "    }\n",
              "</style>\n",
              "<table border=\"1\" class=\"dataframe\">\n",
              "  <thead>\n",
              "    <tr style=\"text-align: right;\">\n",
              "      <th></th>\n",
              "      <th>Trip ID</th>\n",
              "      <th>Taxi ID</th>\n",
              "      <th>Trip Start Timestamp</th>\n",
              "      <th>Trip End Timestamp</th>\n",
              "      <th>Trip Seconds</th>\n",
              "      <th>Trip Miles</th>\n",
              "      <th>Pickup Census Tract</th>\n",
              "      <th>Dropoff Census Tract</th>\n",
              "      <th>Pickup Community Area</th>\n",
              "      <th>Dropoff Community Area</th>\n",
              "      <th>...</th>\n",
              "      <th>Extras</th>\n",
              "      <th>Trip Total</th>\n",
              "      <th>Payment Type</th>\n",
              "      <th>Company</th>\n",
              "      <th>Pickup Centroid Latitude</th>\n",
              "      <th>Pickup Centroid Longitude</th>\n",
              "      <th>Pickup Centroid Location</th>\n",
              "      <th>Dropoff Centroid Latitude</th>\n",
              "      <th>Dropoff Centroid Longitude</th>\n",
              "      <th>Dropoff Centroid  Location</th>\n",
              "    </tr>\n",
              "  </thead>\n",
              "  <tbody>\n",
              "    <tr>\n",
              "      <th>0</th>\n",
              "      <td>0fca59218b11688279d795c03c4d16f851f13fa0</td>\n",
              "      <td>e2c349c7cbb608d552aa0b5814031943f13641ef9e50d8...</td>\n",
              "      <td>01/01/2023 12:00:00 AM</td>\n",
              "      <td>01/01/2023 12:15:00 AM</td>\n",
              "      <td>1037</td>\n",
              "      <td>4.82</td>\n",
              "      <td>NaN</td>\n",
              "      <td>NaN</td>\n",
              "      <td>6.0</td>\n",
              "      <td>32.0</td>\n",
              "      <td>...</td>\n",
              "      <td>0.0</td>\n",
              "      <td>19.50</td>\n",
              "      <td>Credit Card</td>\n",
              "      <td>Taxicab Insurance Agency Llc</td>\n",
              "      <td>41.944227</td>\n",
              "      <td>-87.655998</td>\n",
              "      <td>POINT (-87.6559981815 41.9442266014)</td>\n",
              "      <td>41.878866</td>\n",
              "      <td>-87.625192</td>\n",
              "      <td>POINT (-87.6251921424 41.8788655841)</td>\n",
              "    </tr>\n",
              "    <tr>\n",
              "      <th>1</th>\n",
              "      <td>1e539d6e7501164c6b76b761c3152c235e206d59</td>\n",
              "      <td>4ab7a7510c1ebcc9b2e3eaa7bdd6508dbea34da7986aca...</td>\n",
              "      <td>01/01/2023 12:00:00 AM</td>\n",
              "      <td>01/01/2023 12:15:00 AM</td>\n",
              "      <td>1341</td>\n",
              "      <td>16.63</td>\n",
              "      <td>NaN</td>\n",
              "      <td>NaN</td>\n",
              "      <td>76.0</td>\n",
              "      <td>8.0</td>\n",
              "      <td>...</td>\n",
              "      <td>6.0</td>\n",
              "      <td>53.00</td>\n",
              "      <td>Credit Card</td>\n",
              "      <td>Sun Taxi</td>\n",
              "      <td>41.980264</td>\n",
              "      <td>-87.913625</td>\n",
              "      <td>POINT (-87.913624596 41.9802643146)</td>\n",
              "      <td>41.899602</td>\n",
              "      <td>-87.633308</td>\n",
              "      <td>POINT (-87.6333080367 41.899602111)</td>\n",
              "    </tr>\n",
              "    <tr>\n",
              "      <th>2</th>\n",
              "      <td>2b3c5200439d51f626b60380809bbbcca766a85b</td>\n",
              "      <td>8c76eb82f069c0731a0049cb78898f02cc5ac6990244c9...</td>\n",
              "      <td>01/01/2023 12:00:00 AM</td>\n",
              "      <td>01/01/2023 12:15:00 AM</td>\n",
              "      <td>844</td>\n",
              "      <td>3.84</td>\n",
              "      <td>NaN</td>\n",
              "      <td>NaN</td>\n",
              "      <td>24.0</td>\n",
              "      <td>8.0</td>\n",
              "      <td>...</td>\n",
              "      <td>0.0</td>\n",
              "      <td>20.17</td>\n",
              "      <td>Mobile</td>\n",
              "      <td>Sun Taxi</td>\n",
              "      <td>41.901207</td>\n",
              "      <td>-87.676356</td>\n",
              "      <td>POINT (-87.6763559892 41.9012069941)</td>\n",
              "      <td>41.899602</td>\n",
              "      <td>-87.633308</td>\n",
              "      <td>POINT (-87.6333080367 41.899602111)</td>\n",
              "    </tr>\n",
              "    <tr>\n",
              "      <th>3</th>\n",
              "      <td>45b2ea39cfff64d61a46ef016e16f8ee74e9ed23</td>\n",
              "      <td>a688de71e9eb70603ba839dc7faf949968ae3e971e0575...</td>\n",
              "      <td>01/01/2023 12:00:00 AM</td>\n",
              "      <td>01/01/2023 12:00:00 AM</td>\n",
              "      <td>361</td>\n",
              "      <td>0.63</td>\n",
              "      <td>NaN</td>\n",
              "      <td>NaN</td>\n",
              "      <td>32.0</td>\n",
              "      <td>32.0</td>\n",
              "      <td>...</td>\n",
              "      <td>1.0</td>\n",
              "      <td>6.50</td>\n",
              "      <td>Cash</td>\n",
              "      <td>5 Star Taxi</td>\n",
              "      <td>41.878866</td>\n",
              "      <td>-87.625192</td>\n",
              "      <td>POINT (-87.6251921424 41.8788655841)</td>\n",
              "      <td>41.878866</td>\n",
              "      <td>-87.625192</td>\n",
              "      <td>POINT (-87.6251921424 41.8788655841)</td>\n",
              "    </tr>\n",
              "    <tr>\n",
              "      <th>4</th>\n",
              "      <td>464df6aaaf97ca8745985c2a5b2e481067a2bfb6</td>\n",
              "      <td>8b1a88e5a09cfd55ca72d267f00f56fa50a42aa322bdfe...</td>\n",
              "      <td>01/01/2023 12:00:00 AM</td>\n",
              "      <td>01/01/2023 12:15:00 AM</td>\n",
              "      <td>704</td>\n",
              "      <td>0.99</td>\n",
              "      <td>NaN</td>\n",
              "      <td>NaN</td>\n",
              "      <td>14.0</td>\n",
              "      <td>14.0</td>\n",
              "      <td>...</td>\n",
              "      <td>0.0</td>\n",
              "      <td>7.75</td>\n",
              "      <td>Cash</td>\n",
              "      <td>Flash Cab</td>\n",
              "      <td>41.968069</td>\n",
              "      <td>-87.721559</td>\n",
              "      <td>POINT (-87.7215590627 41.968069)</td>\n",
              "      <td>41.968069</td>\n",
              "      <td>-87.721559</td>\n",
              "      <td>POINT (-87.7215590627 41.968069)</td>\n",
              "    </tr>\n",
              "  </tbody>\n",
              "</table>\n",
              "<p>5 rows × 23 columns</p>\n",
              "</div>\n",
              "    <div class=\"colab-df-buttons\">\n",
              "\n",
              "  <div class=\"colab-df-container\">\n",
              "    <button class=\"colab-df-convert\" onclick=\"convertToInteractive('df-1f9472f0-e29e-4df0-b47c-cc361beb21a1')\"\n",
              "            title=\"Convert this dataframe to an interactive table.\"\n",
              "            style=\"display:none;\">\n",
              "\n",
              "  <svg xmlns=\"http://www.w3.org/2000/svg\" height=\"24px\" viewBox=\"0 -960 960 960\">\n",
              "    <path d=\"M120-120v-720h720v720H120Zm60-500h600v-160H180v160Zm220 220h160v-160H400v160Zm0 220h160v-160H400v160ZM180-400h160v-160H180v160Zm440 0h160v-160H620v160ZM180-180h160v-160H180v160Zm440 0h160v-160H620v160Z\"/>\n",
              "  </svg>\n",
              "    </button>\n",
              "\n",
              "  <style>\n",
              "    .colab-df-container {\n",
              "      display:flex;\n",
              "      gap: 12px;\n",
              "    }\n",
              "\n",
              "    .colab-df-convert {\n",
              "      background-color: #E8F0FE;\n",
              "      border: none;\n",
              "      border-radius: 50%;\n",
              "      cursor: pointer;\n",
              "      display: none;\n",
              "      fill: #1967D2;\n",
              "      height: 32px;\n",
              "      padding: 0 0 0 0;\n",
              "      width: 32px;\n",
              "    }\n",
              "\n",
              "    .colab-df-convert:hover {\n",
              "      background-color: #E2EBFA;\n",
              "      box-shadow: 0px 1px 2px rgba(60, 64, 67, 0.3), 0px 1px 3px 1px rgba(60, 64, 67, 0.15);\n",
              "      fill: #174EA6;\n",
              "    }\n",
              "\n",
              "    .colab-df-buttons div {\n",
              "      margin-bottom: 4px;\n",
              "    }\n",
              "\n",
              "    [theme=dark] .colab-df-convert {\n",
              "      background-color: #3B4455;\n",
              "      fill: #D2E3FC;\n",
              "    }\n",
              "\n",
              "    [theme=dark] .colab-df-convert:hover {\n",
              "      background-color: #434B5C;\n",
              "      box-shadow: 0px 1px 3px 1px rgba(0, 0, 0, 0.15);\n",
              "      filter: drop-shadow(0px 1px 2px rgba(0, 0, 0, 0.3));\n",
              "      fill: #FFFFFF;\n",
              "    }\n",
              "  </style>\n",
              "\n",
              "    <script>\n",
              "      const buttonEl =\n",
              "        document.querySelector('#df-1f9472f0-e29e-4df0-b47c-cc361beb21a1 button.colab-df-convert');\n",
              "      buttonEl.style.display =\n",
              "        google.colab.kernel.accessAllowed ? 'block' : 'none';\n",
              "\n",
              "      async function convertToInteractive(key) {\n",
              "        const element = document.querySelector('#df-1f9472f0-e29e-4df0-b47c-cc361beb21a1');\n",
              "        const dataTable =\n",
              "          await google.colab.kernel.invokeFunction('convertToInteractive',\n",
              "                                                    [key], {});\n",
              "        if (!dataTable) return;\n",
              "\n",
              "        const docLinkHtml = 'Like what you see? Visit the ' +\n",
              "          '<a target=\"_blank\" href=https://colab.research.google.com/notebooks/data_table.ipynb>data table notebook</a>'\n",
              "          + ' to learn more about interactive tables.';\n",
              "        element.innerHTML = '';\n",
              "        dataTable['output_type'] = 'display_data';\n",
              "        await google.colab.output.renderOutput(dataTable, element);\n",
              "        const docLink = document.createElement('div');\n",
              "        docLink.innerHTML = docLinkHtml;\n",
              "        element.appendChild(docLink);\n",
              "      }\n",
              "    </script>\n",
              "  </div>\n",
              "\n",
              "\n",
              "    <div id=\"df-11f0d003-eaa1-46b8-9c9a-c7062c11efc4\">\n",
              "      <button class=\"colab-df-quickchart\" onclick=\"quickchart('df-11f0d003-eaa1-46b8-9c9a-c7062c11efc4')\"\n",
              "                title=\"Suggest charts\"\n",
              "                style=\"display:none;\">\n",
              "\n",
              "<svg xmlns=\"http://www.w3.org/2000/svg\" height=\"24px\"viewBox=\"0 0 24 24\"\n",
              "     width=\"24px\">\n",
              "    <g>\n",
              "        <path d=\"M19 3H5c-1.1 0-2 .9-2 2v14c0 1.1.9 2 2 2h14c1.1 0 2-.9 2-2V5c0-1.1-.9-2-2-2zM9 17H7v-7h2v7zm4 0h-2V7h2v10zm4 0h-2v-4h2v4z\"/>\n",
              "    </g>\n",
              "</svg>\n",
              "      </button>\n",
              "\n",
              "<style>\n",
              "  .colab-df-quickchart {\n",
              "      --bg-color: #E8F0FE;\n",
              "      --fill-color: #1967D2;\n",
              "      --hover-bg-color: #E2EBFA;\n",
              "      --hover-fill-color: #174EA6;\n",
              "      --disabled-fill-color: #AAA;\n",
              "      --disabled-bg-color: #DDD;\n",
              "  }\n",
              "\n",
              "  [theme=dark] .colab-df-quickchart {\n",
              "      --bg-color: #3B4455;\n",
              "      --fill-color: #D2E3FC;\n",
              "      --hover-bg-color: #434B5C;\n",
              "      --hover-fill-color: #FFFFFF;\n",
              "      --disabled-bg-color: #3B4455;\n",
              "      --disabled-fill-color: #666;\n",
              "  }\n",
              "\n",
              "  .colab-df-quickchart {\n",
              "    background-color: var(--bg-color);\n",
              "    border: none;\n",
              "    border-radius: 50%;\n",
              "    cursor: pointer;\n",
              "    display: none;\n",
              "    fill: var(--fill-color);\n",
              "    height: 32px;\n",
              "    padding: 0;\n",
              "    width: 32px;\n",
              "  }\n",
              "\n",
              "  .colab-df-quickchart:hover {\n",
              "    background-color: var(--hover-bg-color);\n",
              "    box-shadow: 0 1px 2px rgba(60, 64, 67, 0.3), 0 1px 3px 1px rgba(60, 64, 67, 0.15);\n",
              "    fill: var(--button-hover-fill-color);\n",
              "  }\n",
              "\n",
              "  .colab-df-quickchart-complete:disabled,\n",
              "  .colab-df-quickchart-complete:disabled:hover {\n",
              "    background-color: var(--disabled-bg-color);\n",
              "    fill: var(--disabled-fill-color);\n",
              "    box-shadow: none;\n",
              "  }\n",
              "\n",
              "  .colab-df-spinner {\n",
              "    border: 2px solid var(--fill-color);\n",
              "    border-color: transparent;\n",
              "    border-bottom-color: var(--fill-color);\n",
              "    animation:\n",
              "      spin 1s steps(1) infinite;\n",
              "  }\n",
              "\n",
              "  @keyframes spin {\n",
              "    0% {\n",
              "      border-color: transparent;\n",
              "      border-bottom-color: var(--fill-color);\n",
              "      border-left-color: var(--fill-color);\n",
              "    }\n",
              "    20% {\n",
              "      border-color: transparent;\n",
              "      border-left-color: var(--fill-color);\n",
              "      border-top-color: var(--fill-color);\n",
              "    }\n",
              "    30% {\n",
              "      border-color: transparent;\n",
              "      border-left-color: var(--fill-color);\n",
              "      border-top-color: var(--fill-color);\n",
              "      border-right-color: var(--fill-color);\n",
              "    }\n",
              "    40% {\n",
              "      border-color: transparent;\n",
              "      border-right-color: var(--fill-color);\n",
              "      border-top-color: var(--fill-color);\n",
              "    }\n",
              "    60% {\n",
              "      border-color: transparent;\n",
              "      border-right-color: var(--fill-color);\n",
              "    }\n",
              "    80% {\n",
              "      border-color: transparent;\n",
              "      border-right-color: var(--fill-color);\n",
              "      border-bottom-color: var(--fill-color);\n",
              "    }\n",
              "    90% {\n",
              "      border-color: transparent;\n",
              "      border-bottom-color: var(--fill-color);\n",
              "    }\n",
              "  }\n",
              "</style>\n",
              "\n",
              "      <script>\n",
              "        async function quickchart(key) {\n",
              "          const quickchartButtonEl =\n",
              "            document.querySelector('#' + key + ' button');\n",
              "          quickchartButtonEl.disabled = true;  // To prevent multiple clicks.\n",
              "          quickchartButtonEl.classList.add('colab-df-spinner');\n",
              "          try {\n",
              "            const charts = await google.colab.kernel.invokeFunction(\n",
              "                'suggestCharts', [key], {});\n",
              "          } catch (error) {\n",
              "            console.error('Error during call to suggestCharts:', error);\n",
              "          }\n",
              "          quickchartButtonEl.classList.remove('colab-df-spinner');\n",
              "          quickchartButtonEl.classList.add('colab-df-quickchart-complete');\n",
              "        }\n",
              "        (() => {\n",
              "          let quickchartButtonEl =\n",
              "            document.querySelector('#df-11f0d003-eaa1-46b8-9c9a-c7062c11efc4 button');\n",
              "          quickchartButtonEl.style.display =\n",
              "            google.colab.kernel.accessAllowed ? 'block' : 'none';\n",
              "        })();\n",
              "      </script>\n",
              "    </div>\n",
              "\n",
              "    </div>\n",
              "  </div>\n"
            ],
            "application/vnd.google.colaboratory.intrinsic+json": {
              "type": "dataframe",
              "variable_name": "data"
            }
          },
          "metadata": {},
          "execution_count": 4
        }
      ]
    },
    {
      "cell_type": "markdown",
      "source": [
        "Dimensions of the Dataset:"
      ],
      "metadata": {
        "id": "yd4HoiQtRkwv"
      }
    },
    {
      "cell_type": "code",
      "source": [
        "data.shape"
      ],
      "metadata": {
        "colab": {
          "base_uri": "https://localhost:8080/"
        },
        "id": "OJIwHka6O4sx",
        "outputId": "dfe7c517-ccf9-409a-fcaf-fb5c87067b55"
      },
      "execution_count": 5,
      "outputs": [
        {
          "output_type": "execute_result",
          "data": {
            "text/plain": [
              "(90, 23)"
            ]
          },
          "metadata": {},
          "execution_count": 5
        }
      ]
    },
    {
      "cell_type": "markdown",
      "source": [
        "Checking for Any Null Values in the Dataset for the Columns Required:"
      ],
      "metadata": {
        "id": "7YKaZZQ-RnYL"
      }
    },
    {
      "cell_type": "code",
      "source": [
        "data.isnull().sum()"
      ],
      "metadata": {
        "colab": {
          "base_uri": "https://localhost:8080/",
          "height": 805
        },
        "id": "sQQ3oseYO7JA",
        "outputId": "00005250-fd6c-4d78-ede1-d75fc755d8d0"
      },
      "execution_count": 6,
      "outputs": [
        {
          "output_type": "execute_result",
          "data": {
            "text/plain": [
              "Trip ID                        0\n",
              "Taxi ID                        0\n",
              "Trip Start Timestamp           0\n",
              "Trip End Timestamp             0\n",
              "Trip Seconds                   0\n",
              "Trip Miles                     0\n",
              "Pickup Census Tract           82\n",
              "Dropoff Census Tract          82\n",
              "Pickup Community Area          5\n",
              "Dropoff Community Area        12\n",
              "Fare                           0\n",
              "Tips                           0\n",
              "Tolls                          0\n",
              "Extras                         0\n",
              "Trip Total                     0\n",
              "Payment Type                   0\n",
              "Company                        0\n",
              "Pickup Centroid Latitude       5\n",
              "Pickup Centroid Longitude      5\n",
              "Pickup Centroid Location       5\n",
              "Dropoff Centroid Latitude     12\n",
              "Dropoff Centroid Longitude    12\n",
              "Dropoff Centroid  Location    12\n",
              "dtype: int64"
            ],
            "text/html": [
              "<div>\n",
              "<style scoped>\n",
              "    .dataframe tbody tr th:only-of-type {\n",
              "        vertical-align: middle;\n",
              "    }\n",
              "\n",
              "    .dataframe tbody tr th {\n",
              "        vertical-align: top;\n",
              "    }\n",
              "\n",
              "    .dataframe thead th {\n",
              "        text-align: right;\n",
              "    }\n",
              "</style>\n",
              "<table border=\"1\" class=\"dataframe\">\n",
              "  <thead>\n",
              "    <tr style=\"text-align: right;\">\n",
              "      <th></th>\n",
              "      <th>0</th>\n",
              "    </tr>\n",
              "  </thead>\n",
              "  <tbody>\n",
              "    <tr>\n",
              "      <th>Trip ID</th>\n",
              "      <td>0</td>\n",
              "    </tr>\n",
              "    <tr>\n",
              "      <th>Taxi ID</th>\n",
              "      <td>0</td>\n",
              "    </tr>\n",
              "    <tr>\n",
              "      <th>Trip Start Timestamp</th>\n",
              "      <td>0</td>\n",
              "    </tr>\n",
              "    <tr>\n",
              "      <th>Trip End Timestamp</th>\n",
              "      <td>0</td>\n",
              "    </tr>\n",
              "    <tr>\n",
              "      <th>Trip Seconds</th>\n",
              "      <td>0</td>\n",
              "    </tr>\n",
              "    <tr>\n",
              "      <th>Trip Miles</th>\n",
              "      <td>0</td>\n",
              "    </tr>\n",
              "    <tr>\n",
              "      <th>Pickup Census Tract</th>\n",
              "      <td>82</td>\n",
              "    </tr>\n",
              "    <tr>\n",
              "      <th>Dropoff Census Tract</th>\n",
              "      <td>82</td>\n",
              "    </tr>\n",
              "    <tr>\n",
              "      <th>Pickup Community Area</th>\n",
              "      <td>5</td>\n",
              "    </tr>\n",
              "    <tr>\n",
              "      <th>Dropoff Community Area</th>\n",
              "      <td>12</td>\n",
              "    </tr>\n",
              "    <tr>\n",
              "      <th>Fare</th>\n",
              "      <td>0</td>\n",
              "    </tr>\n",
              "    <tr>\n",
              "      <th>Tips</th>\n",
              "      <td>0</td>\n",
              "    </tr>\n",
              "    <tr>\n",
              "      <th>Tolls</th>\n",
              "      <td>0</td>\n",
              "    </tr>\n",
              "    <tr>\n",
              "      <th>Extras</th>\n",
              "      <td>0</td>\n",
              "    </tr>\n",
              "    <tr>\n",
              "      <th>Trip Total</th>\n",
              "      <td>0</td>\n",
              "    </tr>\n",
              "    <tr>\n",
              "      <th>Payment Type</th>\n",
              "      <td>0</td>\n",
              "    </tr>\n",
              "    <tr>\n",
              "      <th>Company</th>\n",
              "      <td>0</td>\n",
              "    </tr>\n",
              "    <tr>\n",
              "      <th>Pickup Centroid Latitude</th>\n",
              "      <td>5</td>\n",
              "    </tr>\n",
              "    <tr>\n",
              "      <th>Pickup Centroid Longitude</th>\n",
              "      <td>5</td>\n",
              "    </tr>\n",
              "    <tr>\n",
              "      <th>Pickup Centroid Location</th>\n",
              "      <td>5</td>\n",
              "    </tr>\n",
              "    <tr>\n",
              "      <th>Dropoff Centroid Latitude</th>\n",
              "      <td>12</td>\n",
              "    </tr>\n",
              "    <tr>\n",
              "      <th>Dropoff Centroid Longitude</th>\n",
              "      <td>12</td>\n",
              "    </tr>\n",
              "    <tr>\n",
              "      <th>Dropoff Centroid  Location</th>\n",
              "      <td>12</td>\n",
              "    </tr>\n",
              "  </tbody>\n",
              "</table>\n",
              "</div><br><label><b>dtype:</b> int64</label>"
            ]
          },
          "metadata": {},
          "execution_count": 6
        }
      ]
    },
    {
      "cell_type": "markdown",
      "source": [
        "Assigning Dependent and Independent Variables:"
      ],
      "metadata": {
        "id": "Ot55xYDsRp3T"
      }
    },
    {
      "cell_type": "code",
      "source": [
        "x = data[['Trip Miles']].values\n",
        "y = data[['Fare']].values"
      ],
      "metadata": {
        "id": "5jdRVm8PPBds"
      },
      "execution_count": 19,
      "outputs": []
    },
    {
      "cell_type": "markdown",
      "source": [
        "Splitting the Dataset into Training and Testing Dataset:"
      ],
      "metadata": {
        "id": "yBBbJrDQRx8t"
      }
    },
    {
      "cell_type": "code",
      "source": [
        "x_train, x_test, y_train, y_test = train_test_split(x, y, test_size = 0.2, random_state = 42)"
      ],
      "metadata": {
        "id": "-E4yiTJ4PaZr"
      },
      "execution_count": 20,
      "outputs": []
    },
    {
      "cell_type": "markdown",
      "source": [
        "Fitting the Model (Linear Regression):"
      ],
      "metadata": {
        "id": "owTvrEQzR0Ad"
      }
    },
    {
      "cell_type": "code",
      "source": [
        "model = LinearRegression()\n",
        "model.fit(x_train, y_train)\n",
        "y_pred = model.predict(x_test)"
      ],
      "metadata": {
        "id": "U3KcvQi4PjWL"
      },
      "execution_count": 21,
      "outputs": []
    },
    {
      "cell_type": "code",
      "source": [
        "print(y_pred)\n",
        "print(y_test)"
      ],
      "metadata": {
        "colab": {
          "base_uri": "https://localhost:8080/"
        },
        "id": "L_2ym_qtPxBV",
        "outputId": "dcbca89e-218b-48a6-91f5-cb2c8918efd9"
      },
      "execution_count": 22,
      "outputs": [
        {
          "output_type": "stream",
          "name": "stdout",
          "text": [
            "[[10.79790118]\n",
            " [ 5.72145497]\n",
            " [40.29496085]\n",
            " [20.52589281]\n",
            " [16.50051696]\n",
            " [20.10099202]\n",
            " [ 5.94508696]\n",
            " [ 7.13033652]\n",
            " [17.79758251]\n",
            " [ 6.61598294]\n",
            " [ 5.72145497]\n",
            " [ 6.88434133]\n",
            " [ 7.6670533 ]\n",
            " [23.96982547]\n",
            " [13.05658429]\n",
            " [ 7.93541169]\n",
            " [47.54063738]\n",
            " [ 5.72145497]]\n",
            "[[11.  ]\n",
            " [ 3.5 ]\n",
            " [41.5 ]\n",
            " [20.75]\n",
            " [15.75]\n",
            " [22.25]\n",
            " [ 7.  ]\n",
            " [ 5.5 ]\n",
            " [17.5 ]\n",
            " [19.25]\n",
            " [15.2 ]\n",
            " [ 6.  ]\n",
            " [ 7.75]\n",
            " [25.5 ]\n",
            " [15.03]\n",
            " [ 7.75]\n",
            " [46.25]\n",
            " [ 6.75]]\n"
          ]
        }
      ]
    },
    {
      "cell_type": "markdown",
      "source": [
        "Plot for Training Dataset:"
      ],
      "metadata": {
        "id": "Op1Cd3qzR3K0"
      }
    },
    {
      "cell_type": "code",
      "source": [
        "plt.scatter(x_train, y_train, color = 'green')\n",
        "plt.plot(x_train, model.predict(x_train), color = 'blue')\n",
        "plt.title('DISTANCE VS FARE (Training Datset)')\n",
        "plt.xlabel('Distance in Miles')\n",
        "plt.ylabel('Fare in Dollars')"
      ],
      "metadata": {
        "colab": {
          "base_uri": "https://localhost:8080/",
          "height": 489
        },
        "id": "Jru9WteOP2jA",
        "outputId": "082e26c1-41c5-4fe7-875a-5e7fc63539db"
      },
      "execution_count": 23,
      "outputs": [
        {
          "output_type": "execute_result",
          "data": {
            "text/plain": [
              "Text(0, 0.5, 'Fare in Dollars')"
            ]
          },
          "metadata": {},
          "execution_count": 23
        },
        {
          "output_type": "display_data",
          "data": {
            "text/plain": [
              "<Figure size 640x480 with 1 Axes>"
            ],
            "image/png": "[encoded data removed]"
          },
          "metadata": {}
        }
      ]
    },
    {
      "cell_type": "markdown",
      "source": [
        "Plot for Testing Dataset:"
      ],
      "metadata": {
        "id": "GEdvJa57R5pr"
      }
    },
    {
      "cell_type": "code",
      "source": [
        "plt.scatter(x_test, y_test, color = 'green')\n",
        "plt.plot(x_train, model.predict(x_train), color = 'blue')\n",
        "plt.title('DISTANCE VS FARE (Testing Dataset )')\n",
        "plt.xlabel('Distance in Miles')\n",
        "plt.ylabel('Fare in Dollars')"
      ],
      "metadata": {
        "colab": {
          "base_uri": "https://localhost:8080/",
          "height": 489
        },
        "id": "ZAJlGxQqQXqR",
        "outputId": "a5d718d6-a438-442d-8627-4a5df939f442"
      },
      "execution_count": 24,
      "outputs": [
        {
          "output_type": "execute_result",
          "data": {
            "text/plain": [
              "Text(0, 0.5, 'Fare in Dollars')"
            ]
          },
          "metadata": {},
          "execution_count": 24
        },
        {
          "output_type": "display_data",
          "data": {
            "text/plain": [
              "<Figure size 640x480 with 1 Axes>"
            ],
            "image/png": "[encoded data removed]"
          },
          "metadata": {}
        }
      ]
    }
  ]
}